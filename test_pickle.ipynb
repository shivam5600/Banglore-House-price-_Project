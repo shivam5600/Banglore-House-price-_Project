{
 "metadata": {
  "language_info": {
   "codemirror_mode": {
    "name": "ipython",
    "version": 3
   },
   "file_extension": ".py",
   "mimetype": "text/x-python",
   "name": "python",
   "nbconvert_exporter": "python",
   "pygments_lexer": "ipython3",
   "version": "3.8.5"
  },
  "orig_nbformat": 2,
  "kernelspec": {
   "name": "python385jvsc74a57bd0e155d23346b62827155103f57e5ca350ccf4337ba4320eee9d5df2ab2b3b7267",
   "display_name": "Python 3.8.5 64-bit ('base': conda)"
  }
 },
 "nbformat": 4,
 "nbformat_minor": 2,
 "cells": [
  {
   "cell_type": "code",
   "execution_count": 5,
   "metadata": {},
   "outputs": [],
   "source": [
    "import pickle\n",
    "import numpy as np \n",
    "import pandas as pd"
   ]
  },
  {
   "cell_type": "code",
   "execution_count": 2,
   "metadata": {},
   "outputs": [],
   "source": [
    "with open('house_prediction_model', 'rb') as f:\n",
    "    model1 = pickle.load(f)"
   ]
  },
  {
   "cell_type": "code",
   "execution_count": 3,
   "metadata": {},
   "outputs": [],
   "source": [
    "# Script for prediction\n",
    "def prediction(location,sqft,bhk,bath):\n",
    "    location_index = np.where(x.columns == location)[0][0]\n",
    "\n",
    "    X = np.zeros(len(x.columns))\n",
    "    X[0]=bhk\n",
    "    X[1]=sqft\n",
    "    X[2]=bath     \n",
    " # 'X[3]= pricepersqft'( if we want to add price_p_sqft as a feature)       \n",
    "    if location_index>=0:\n",
    "        X[location_index]=1\n",
    "    return model1.predict([X])[0]\n"
   ]
  },
  {
   "source": [
    "Price_prediction = prediction('1st Phase JP Nagar',1400,2,2)\n",
    "\n",
    "print(\"The predicted price is\",Price_prediction ,\"lakh\")"
   ],
   "cell_type": "markdown",
   "metadata": {}
  },
  {
   "cell_type": "code",
   "execution_count": 7,
   "metadata": {},
   "outputs": [],
   "source": [
    "## we can do predictions here by defining x"
   ]
  },
  {
   "cell_type": "code",
   "execution_count": null,
   "metadata": {},
   "outputs": [],
   "source": []
  }
 ]
}